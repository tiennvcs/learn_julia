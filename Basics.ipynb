{
 "cells": [
  {
   "cell_type": "code",
   "execution_count": 1,
   "id": "5b5f6c24",
   "metadata": {},
   "outputs": [
    {
     "data": {
      "text/plain": [
       "2"
      ]
     },
     "execution_count": 1,
     "metadata": {},
     "output_type": "execute_result"
    }
   ],
   "source": [
    "1+1"
   ]
  },
  {
   "cell_type": "code",
   "execution_count": 2,
   "id": "4d4d7bb5",
   "metadata": {},
   "outputs": [
    {
     "data": {
      "text/plain": [
       "247137603041"
      ]
     },
     "execution_count": 2,
     "metadata": {},
     "output_type": "execute_result"
    }
   ],
   "source": [
    "1312321*188321"
   ]
  },
  {
   "cell_type": "code",
   "execution_count": 3,
   "id": "7a0050f9",
   "metadata": {},
   "outputs": [
    {
     "data": {
      "text/plain": [
       "-11081"
      ]
     },
     "execution_count": 3,
     "metadata": {},
     "output_type": "execute_result"
    }
   ],
   "source": [
    "1231 - 12312"
   ]
  },
  {
   "cell_type": "code",
   "execution_count": 4,
   "id": "0ce791a7",
   "metadata": {},
   "outputs": [
    {
     "data": {
      "text/plain": [
       "0.000999790044090741"
      ]
     },
     "execution_count": 4,
     "metadata": {},
     "output_type": "execute_result"
    }
   ],
   "source": [
    "100 / 100021"
   ]
  },
  {
   "cell_type": "code",
   "execution_count": 5,
   "id": "cc8058f0",
   "metadata": {},
   "outputs": [
    {
     "data": {
      "text/plain": [
       "0.0975609756097561"
      ]
     },
     "execution_count": 5,
     "metadata": {},
     "output_type": "execute_result"
    }
   ],
   "source": [
    "12 / 123"
   ]
  },
  {
   "cell_type": "code",
   "execution_count": 6,
   "id": "9605cf0c",
   "metadata": {},
   "outputs": [
    {
     "data": {
      "text/plain": [
       "578//3"
      ]
     },
     "execution_count": 6,
     "metadata": {},
     "output_type": "execute_result"
    }
   ],
   "source": [
    "2312 // 12"
   ]
  },
  {
   "cell_type": "code",
   "execution_count": 7,
   "id": "7bfc0c94",
   "metadata": {},
   "outputs": [
    {
     "data": {
      "text/plain": [
       "0"
      ]
     },
     "execution_count": 7,
     "metadata": {},
     "output_type": "execute_result"
    }
   ],
   "source": [
    "2^11231"
   ]
  },
  {
   "cell_type": "code",
   "execution_count": 8,
   "id": "6bb63606",
   "metadata": {},
   "outputs": [
    {
     "data": {
      "text/plain": [
       "0"
      ]
     },
     "execution_count": 8,
     "metadata": {},
     "output_type": "execute_result"
    }
   ],
   "source": [
    "2^123"
   ]
  },
  {
   "cell_type": "markdown",
   "id": "1704e199",
   "metadata": {},
   "source": [
    "### print() and println()"
   ]
  },
  {
   "cell_type": "code",
   "execution_count": 9,
   "id": "7a97f1aa",
   "metadata": {},
   "outputs": [
    {
     "name": "stdout",
     "output_type": "stream",
     "text": [
      "Hello World!"
     ]
    }
   ],
   "source": [
    "print(\"Hello World!\")"
   ]
  },
  {
   "cell_type": "code",
   "execution_count": 10,
   "id": "f720f38e",
   "metadata": {},
   "outputs": [
    {
     "name": "stdout",
     "output_type": "stream",
     "text": [
      "2\n"
     ]
    }
   ],
   "source": [
    "println(1+1)"
   ]
  },
  {
   "cell_type": "code",
   "execution_count": 13,
   "id": "bd836005",
   "metadata": {},
   "outputs": [
    {
     "name": "stdout",
     "output_type": "stream",
     "text": [
      "101 abc 2\n"
     ]
    }
   ],
   "source": [
    "println(1+100, \" abc \", 2)"
   ]
  },
  {
   "cell_type": "markdown",
   "id": "95d48cfa",
   "metadata": {},
   "source": [
    "### Arithmetic operators"
   ]
  },
  {
   "cell_type": "code",
   "execution_count": 14,
   "id": "76829c8b",
   "metadata": {},
   "outputs": [
    {
     "data": {
      "text/plain": [
       "1.3333333333333333"
      ]
     },
     "execution_count": 14,
     "metadata": {},
     "output_type": "execute_result"
    }
   ],
   "source": [
    "1 + 1 / 3"
   ]
  },
  {
   "cell_type": "code",
   "execution_count": 16,
   "id": "8bb31c39",
   "metadata": {},
   "outputs": [
    {
     "data": {
      "text/plain": [
       "-10"
      ]
     },
     "execution_count": 16,
     "metadata": {},
     "output_type": "execute_result"
    }
   ],
   "source": [
    "(1 - 2 ) * 10"
   ]
  },
  {
   "cell_type": "code",
   "execution_count": 17,
   "id": "5c3a45a1",
   "metadata": {},
   "outputs": [
    {
     "name": "stdout",
     "output_type": "stream",
     "text": [
      "0.16666666666666666\n"
     ]
    }
   ],
   "source": [
    "println(1/2/3)"
   ]
  },
  {
   "cell_type": "code",
   "execution_count": 20,
   "id": "b903bca2",
   "metadata": {},
   "outputs": [
    {
     "name": "stdout",
     "output_type": "stream",
     "text": [
      "16\n"
     ]
    }
   ],
   "source": [
    "println(2^3*2)"
   ]
  },
  {
   "cell_type": "code",
   "execution_count": 21,
   "id": "331dfc19",
   "metadata": {},
   "outputs": [
    {
     "name": "stdout",
     "output_type": "stream",
     "text": [
      "0\n"
     ]
    }
   ],
   "source": [
    "println(2^3^4)"
   ]
  },
  {
   "cell_type": "code",
   "execution_count": 22,
   "id": "4256568c",
   "metadata": {},
   "outputs": [
    {
     "name": "stdout",
     "output_type": "stream",
     "text": [
      "4096\n"
     ]
    }
   ],
   "source": [
    "println((2^3)^4)"
   ]
  },
  {
   "cell_type": "markdown",
   "id": "bf8b0194",
   "metadata": {},
   "source": [
    "### Logical expression"
   ]
  },
  {
   "cell_type": "code",
   "execution_count": 28,
   "id": "0deeec31",
   "metadata": {},
   "outputs": [
    {
     "data": {
      "text/plain": [
       "true"
      ]
     },
     "execution_count": 28,
     "metadata": {},
     "output_type": "execute_result"
    }
   ],
   "source": [
    "true && true"
   ]
  },
  {
   "cell_type": "code",
   "execution_count": 25,
   "id": "3162fed2",
   "metadata": {},
   "outputs": [
    {
     "data": {
      "text/plain": [
       "false"
      ]
     },
     "execution_count": 25,
     "metadata": {},
     "output_type": "execute_result"
    }
   ],
   "source": [
    "!true"
   ]
  },
  {
   "cell_type": "code",
   "execution_count": 26,
   "id": "2a0e3719",
   "metadata": {},
   "outputs": [
    {
     "data": {
      "text/plain": [
       "true"
      ]
     },
     "execution_count": 26,
     "metadata": {},
     "output_type": "execute_result"
    }
   ],
   "source": [
    "true || false"
   ]
  },
  {
   "cell_type": "code",
   "execution_count": 29,
   "id": "4f3b6fcf",
   "metadata": {},
   "outputs": [
    {
     "data": {
      "text/plain": [
       "false"
      ]
     },
     "execution_count": 29,
     "metadata": {},
     "output_type": "execute_result"
    }
   ],
   "source": [
    "1 > 2"
   ]
  },
  {
   "cell_type": "code",
   "execution_count": 30,
   "id": "3b63edc6",
   "metadata": {},
   "outputs": [
    {
     "data": {
      "text/plain": [
       "false"
      ]
     },
     "execution_count": 30,
     "metadata": {},
     "output_type": "execute_result"
    }
   ],
   "source": [
    "100 - 10 == 2"
   ]
  },
  {
   "cell_type": "code",
   "execution_count": 31,
   "id": "9266f98f",
   "metadata": {},
   "outputs": [
    {
     "data": {
      "text/plain": [
       "true"
      ]
     },
     "execution_count": 31,
     "metadata": {},
     "output_type": "execute_result"
    }
   ],
   "source": [
    "100 - 10 == 90"
   ]
  },
  {
   "cell_type": "markdown",
   "id": "07cc44ab",
   "metadata": {},
   "source": [
    "### Bit-wise operator"
   ]
  },
  {
   "cell_type": "code",
   "execution_count": 35,
   "id": "2de51c9e",
   "metadata": {},
   "outputs": [
    {
     "data": {
      "text/plain": [
       "2"
      ]
     },
     "execution_count": 35,
     "metadata": {},
     "output_type": "execute_result"
    }
   ],
   "source": [
    "10 & 2 # bitwise AND operator\n",
    "# 1010\n",
    "# 0010\n",
    "# 0010 = 2"
   ]
  },
  {
   "cell_type": "code",
   "execution_count": 36,
   "id": "f98fb7f9",
   "metadata": {},
   "outputs": [
    {
     "data": {
      "text/plain": [
       "2"
      ]
     },
     "execution_count": 36,
     "metadata": {},
     "output_type": "execute_result"
    }
   ],
   "source": [
    "10 & 7 # bitwise AND operator\n",
    "# 1010\n",
    "# 0111\n",
    "# 0010 = 2"
   ]
  },
  {
   "cell_type": "code",
   "execution_count": 37,
   "id": "7d058ab7",
   "metadata": {},
   "outputs": [
    {
     "data": {
      "text/plain": [
       "10"
      ]
     },
     "execution_count": 37,
     "metadata": {},
     "output_type": "execute_result"
    }
   ],
   "source": [
    "10 | 2 # bitwise OR operator\n",
    "# 1010\n",
    "# 0010\n",
    "# 1010 = 10"
   ]
  },
  {
   "cell_type": "code",
   "execution_count": 38,
   "id": "a480785c",
   "metadata": {},
   "outputs": [
    {
     "data": {
      "text/plain": [
       "15"
      ]
     },
     "execution_count": 38,
     "metadata": {},
     "output_type": "execute_result"
    }
   ],
   "source": [
    "10 | 7 # bitwise OR operator\n",
    "# 01010\n",
    "# 00111\n",
    "# 01111 = 15"
   ]
  },
  {
   "cell_type": "markdown",
   "id": "815dcc0b",
   "metadata": {},
   "source": [
    "### Type of"
   ]
  },
  {
   "cell_type": "code",
   "execution_count": 39,
   "id": "4be20332",
   "metadata": {},
   "outputs": [
    {
     "data": {
      "text/plain": [
       "Int64"
      ]
     },
     "execution_count": 39,
     "metadata": {},
     "output_type": "execute_result"
    }
   ],
   "source": [
    "typeof(1)"
   ]
  },
  {
   "cell_type": "code",
   "execution_count": 40,
   "id": "3ff7ccf9",
   "metadata": {},
   "outputs": [
    {
     "data": {
      "text/plain": [
       "String"
      ]
     },
     "execution_count": 40,
     "metadata": {},
     "output_type": "execute_result"
    }
   ],
   "source": [
    "typeof(\"abc\")"
   ]
  },
  {
   "cell_type": "code",
   "execution_count": 42,
   "id": "2f20502a",
   "metadata": {},
   "outputs": [
    {
     "data": {
      "text/plain": [
       "Char"
      ]
     },
     "execution_count": 42,
     "metadata": {},
     "output_type": "execute_result"
    }
   ],
   "source": [
    "typeof('H')"
   ]
  },
  {
   "cell_type": "code",
   "execution_count": 43,
   "id": "aa92ebe2",
   "metadata": {},
   "outputs": [
    {
     "data": {
      "text/plain": [
       "String"
      ]
     },
     "execution_count": 43,
     "metadata": {},
     "output_type": "execute_result"
    }
   ],
   "source": [
    "typeof(\"H\")"
   ]
  },
  {
   "cell_type": "code",
   "execution_count": 44,
   "id": "0fd3b01a",
   "metadata": {},
   "outputs": [
    {
     "data": {
      "text/plain": [
       "Float64"
      ]
     },
     "execution_count": 44,
     "metadata": {},
     "output_type": "execute_result"
    }
   ],
   "source": [
    "typeof(2.3)"
   ]
  },
  {
   "cell_type": "code",
   "execution_count": 45,
   "id": "b1a9d4bf",
   "metadata": {},
   "outputs": [
    {
     "data": {
      "text/plain": [
       "Float64"
      ]
     },
     "execution_count": 45,
     "metadata": {},
     "output_type": "execute_result"
    }
   ],
   "source": [
    "typeof(1.3+2+10)"
   ]
  },
  {
   "cell_type": "markdown",
   "id": "519aaf39",
   "metadata": {},
   "source": [
    "### Array"
   ]
  },
  {
   "cell_type": "code",
   "execution_count": 49,
   "id": "f5eb133b",
   "metadata": {},
   "outputs": [
    {
     "data": {
      "text/plain": [
       "10-element Vector{Int64}:\n",
       "               4\n",
       "               8\n",
       "               3\n",
       "              32\n",
       " 140711529762049\n",
       "             100\n",
       "            1000\n",
       "             250\n",
       "              20\n",
       "               1"
      ]
     },
     "execution_count": 49,
     "metadata": {},
     "output_type": "execute_result"
    }
   ],
   "source": [
    "Array{Int64}(undef, 10)"
   ]
  },
  {
   "cell_type": "markdown",
   "id": "21e811e9",
   "metadata": {},
   "source": [
    "### Variables"
   ]
  },
  {
   "cell_type": "code",
   "execution_count": 50,
   "id": "f5964aef",
   "metadata": {},
   "outputs": [
    {
     "data": {
      "text/plain": [
       "10"
      ]
     },
     "execution_count": 50,
     "metadata": {},
     "output_type": "execute_result"
    }
   ],
   "source": [
    "a = 10"
   ]
  },
  {
   "cell_type": "code",
   "execution_count": 51,
   "id": "d7ef4c32",
   "metadata": {},
   "outputs": [
    {
     "data": {
      "text/plain": [
       "10"
      ]
     },
     "execution_count": 51,
     "metadata": {},
     "output_type": "execute_result"
    }
   ],
   "source": [
    "b = a"
   ]
  },
  {
   "cell_type": "code",
   "execution_count": 52,
   "id": "678611e3",
   "metadata": {},
   "outputs": [
    {
     "data": {
      "text/plain": [
       "1"
      ]
     },
     "execution_count": 52,
     "metadata": {},
     "output_type": "execute_result"
    }
   ],
   "source": [
    "a = 1"
   ]
  },
  {
   "cell_type": "code",
   "execution_count": 53,
   "id": "1414567e",
   "metadata": {},
   "outputs": [
    {
     "data": {
      "text/plain": [
       "10"
      ]
     },
     "execution_count": 53,
     "metadata": {},
     "output_type": "execute_result"
    }
   ],
   "source": [
    "b"
   ]
  },
  {
   "cell_type": "code",
   "execution_count": 55,
   "id": "532face7",
   "metadata": {},
   "outputs": [
    {
     "data": {
      "text/plain": [
       "2×3 Matrix{Integer}:\n",
       " #undef  #undef  #undef\n",
       " #undef  #undef  #undef"
      ]
     },
     "execution_count": 55,
     "metadata": {},
     "output_type": "execute_result"
    }
   ],
   "source": [
    "abstractype = Array{Integer}(undef, 2, 3)"
   ]
  },
  {
   "cell_type": "code",
   "execution_count": 56,
   "id": "182c4cf9",
   "metadata": {},
   "outputs": [
    {
     "data": {
      "text/plain": [
       "Matrix{Integer}\u001b[90m (alias for \u001b[39m\u001b[90mArray{Integer, 2}\u001b[39m\u001b[90m)\u001b[39m"
      ]
     },
     "execution_count": 56,
     "metadata": {},
     "output_type": "execute_result"
    }
   ],
   "source": [
    "typeof(abstractype)"
   ]
  },
  {
   "cell_type": "markdown",
   "id": "7d9b4881",
   "metadata": {},
   "source": [
    "### Access value in array"
   ]
  },
  {
   "cell_type": "code",
   "execution_count": 58,
   "id": "d08ad565",
   "metadata": {},
   "outputs": [
    {
     "data": {
      "text/plain": [
       "1"
      ]
     },
     "execution_count": 58,
     "metadata": {},
     "output_type": "execute_result"
    }
   ],
   "source": [
    "abstractype[1, 2] = 1"
   ]
  },
  {
   "cell_type": "code",
   "execution_count": 59,
   "id": "5117d441",
   "metadata": {},
   "outputs": [
    {
     "data": {
      "text/plain": [
       "1"
      ]
     },
     "execution_count": 59,
     "metadata": {},
     "output_type": "execute_result"
    }
   ],
   "source": [
    "abstractype[1, 2]"
   ]
  },
  {
   "cell_type": "code",
   "execution_count": 60,
   "id": "eb2f61b0",
   "metadata": {},
   "outputs": [
    {
     "data": {
      "text/plain": [
       "2×3 Matrix{Integer}:\n",
       " #undef    1     #undef\n",
       " #undef  #undef  #undef"
      ]
     },
     "execution_count": 60,
     "metadata": {},
     "output_type": "execute_result"
    }
   ],
   "source": [
    "abstractype"
   ]
  },
  {
   "cell_type": "code",
   "execution_count": 62,
   "id": "b99f7f30",
   "metadata": {},
   "outputs": [
    {
     "ename": "LoadError",
     "evalue": "InexactError: Int64(2.3)",
     "output_type": "error",
     "traceback": [
      "InexactError: Int64(2.3)",
      "",
      "Stacktrace:",
      " [1] Int64",
      "   @ .\\float.jl:900 [inlined]",
      " [2] Integer",
      "   @ .\\boot.jl:818 [inlined]",
      " [3] convert",
      "   @ .\\number.jl:7 [inlined]",
      " [4] setindex!(::Matrix{Integer}, ::Float64, ::Int64, ::Int64)",
      "   @ Base .\\array.jl:971",
      " [5] top-level scope",
      "   @ In[62]:1"
     ]
    }
   ],
   "source": [
    "abstractype[1, 2] = 2.3"
   ]
  },
  {
   "cell_type": "markdown",
   "id": "c897639a",
   "metadata": {},
   "source": [
    "### Function"
   ]
  },
  {
   "cell_type": "markdown",
   "id": "855f28b7",
   "metadata": {},
   "source": [
    "#### Build-in function"
   ]
  },
  {
   "cell_type": "code",
   "execution_count": 63,
   "id": "19f0c24f",
   "metadata": {},
   "outputs": [
    {
     "name": "stdout",
     "output_type": "stream",
     "text": [
      "0abc\n"
     ]
    }
   ],
   "source": [
    "println(1-1, \"abc\")"
   ]
  },
  {
   "cell_type": "code",
   "execution_count": 64,
   "id": "501a3a0e",
   "metadata": {},
   "outputs": [
    {
     "data": {
      "text/plain": [
       "(0.8939966636005579, 0.8623188722876839, 0.0)"
      ]
     },
     "execution_count": 64,
     "metadata": {},
     "output_type": "execute_result"
    }
   ],
   "source": [
    "a, b, c = sin(90), cos(100), tan(0)"
   ]
  },
  {
   "cell_type": "code",
   "execution_count": 68,
   "id": "714951e9",
   "metadata": {},
   "outputs": [
    {
     "name": "stdout",
     "output_type": "stream",
     "text": [
      "search: \u001b[0m\u001b[1ms\u001b[22m\u001b[0m\u001b[1mi\u001b[22m\u001b[0m\u001b[1mn\u001b[22m \u001b[0m\u001b[1ms\u001b[22m\u001b[0m\u001b[1mi\u001b[22m\u001b[0m\u001b[1mn\u001b[22mh \u001b[0m\u001b[1ms\u001b[22m\u001b[0m\u001b[1mi\u001b[22m\u001b[0m\u001b[1mn\u001b[22md \u001b[0m\u001b[1ms\u001b[22m\u001b[0m\u001b[1mi\u001b[22m\u001b[0m\u001b[1mn\u001b[22mc \u001b[0m\u001b[1ms\u001b[22m\u001b[0m\u001b[1mi\u001b[22m\u001b[0m\u001b[1mn\u001b[22mpi \u001b[0m\u001b[1ms\u001b[22m\u001b[0m\u001b[1mi\u001b[22m\u001b[0m\u001b[1mn\u001b[22mcos \u001b[0m\u001b[1ms\u001b[22m\u001b[0m\u001b[1mi\u001b[22m\u001b[0m\u001b[1mn\u001b[22mcosd \u001b[0m\u001b[1ms\u001b[22m\u001b[0m\u001b[1mi\u001b[22m\u001b[0m\u001b[1mn\u001b[22mcospi a\u001b[0m\u001b[1ms\u001b[22m\u001b[0m\u001b[1mi\u001b[22m\u001b[0m\u001b[1mn\u001b[22m u\u001b[0m\u001b[1ms\u001b[22m\u001b[0m\u001b[1mi\u001b[22m\u001b[0m\u001b[1mn\u001b[22mg i\u001b[0m\u001b[1ms\u001b[22m\u001b[0m\u001b[1mi\u001b[22m\u001b[0m\u001b[1mn\u001b[22mf a\u001b[0m\u001b[1ms\u001b[22m\u001b[0m\u001b[1mi\u001b[22m\u001b[0m\u001b[1mn\u001b[22mh\n",
      "\n"
     ]
    },
    {
     "data": {
      "text/latex": [
       "\\begin{verbatim}\n",
       "sin(x)\n",
       "\\end{verbatim}\n",
       "Compute sine of \\texttt{x}, where \\texttt{x} is in radians.\n",
       "\n",
       "See also \\href{@ref}{\\texttt{sind}}, \\href{@ref}{\\texttt{sinpi}}, \\href{@ref}{\\texttt{sincos}}, \\href{@ref}{\\texttt{cis}}, \\href{@ref}{\\texttt{asin}}.\n",
       "\n",
       "\\section{Examples}\n",
       "\\begin{verbatim}\n",
       "julia> round.(sin.(range(0, 2pi, length=9)'), digits=3)\n",
       "1×9 Matrix{Float64}:\n",
       " 0.0  0.707  1.0  0.707  0.0  -0.707  -1.0  -0.707  -0.0\n",
       "\n",
       "julia> sind(45)\n",
       "0.7071067811865476\n",
       "\n",
       "julia> sinpi(1/4)\n",
       "0.7071067811865476\n",
       "\n",
       "julia> round.(sincos(pi/6), digits=3)\n",
       "(0.5, 0.866)\n",
       "\n",
       "julia> round(cis(pi/6), digits=3)\n",
       "0.866 + 0.5im\n",
       "\n",
       "julia> round(exp(im*pi/6), digits=3)\n",
       "0.866 + 0.5im\n",
       "\\end{verbatim}\n",
       "\\rule{\\textwidth}{1pt}\n",
       "\\begin{verbatim}\n",
       "sin(A::AbstractMatrix)\n",
       "\\end{verbatim}\n",
       "Compute the matrix sine of a square matrix \\texttt{A}.\n",
       "\n",
       "If \\texttt{A} is symmetric or Hermitian, its eigendecomposition (\\href{@ref}{\\texttt{eigen}}) is used to compute the sine. Otherwise, the sine is determined by calling \\href{@ref}{\\texttt{exp}}.\n",
       "\n",
       "\\section{Examples}\n",
       "\\begin{verbatim}\n",
       "julia> sin(fill(1.0, (2,2)))\n",
       "2×2 Matrix{Float64}:\n",
       " 0.454649  0.454649\n",
       " 0.454649  0.454649\n",
       "\\end{verbatim}\n"
      ],
      "text/markdown": [
       "```\n",
       "sin(x)\n",
       "```\n",
       "\n",
       "Compute sine of `x`, where `x` is in radians.\n",
       "\n",
       "See also [`sind`](@ref), [`sinpi`](@ref), [`sincos`](@ref), [`cis`](@ref), [`asin`](@ref).\n",
       "\n",
       "# Examples\n",
       "\n",
       "```jldoctest\n",
       "julia> round.(sin.(range(0, 2pi, length=9)'), digits=3)\n",
       "1×9 Matrix{Float64}:\n",
       " 0.0  0.707  1.0  0.707  0.0  -0.707  -1.0  -0.707  -0.0\n",
       "\n",
       "julia> sind(45)\n",
       "0.7071067811865476\n",
       "\n",
       "julia> sinpi(1/4)\n",
       "0.7071067811865476\n",
       "\n",
       "julia> round.(sincos(pi/6), digits=3)\n",
       "(0.5, 0.866)\n",
       "\n",
       "julia> round(cis(pi/6), digits=3)\n",
       "0.866 + 0.5im\n",
       "\n",
       "julia> round(exp(im*pi/6), digits=3)\n",
       "0.866 + 0.5im\n",
       "```\n",
       "\n",
       "---\n",
       "\n",
       "```\n",
       "sin(A::AbstractMatrix)\n",
       "```\n",
       "\n",
       "Compute the matrix sine of a square matrix `A`.\n",
       "\n",
       "If `A` is symmetric or Hermitian, its eigendecomposition ([`eigen`](@ref)) is used to compute the sine. Otherwise, the sine is determined by calling [`exp`](@ref).\n",
       "\n",
       "# Examples\n",
       "\n",
       "```jldoctest\n",
       "julia> sin(fill(1.0, (2,2)))\n",
       "2×2 Matrix{Float64}:\n",
       " 0.454649  0.454649\n",
       " 0.454649  0.454649\n",
       "```\n"
      ],
      "text/plain": [
       "\u001b[36m  sin(x)\u001b[39m\n",
       "\n",
       "  Compute sine of \u001b[36mx\u001b[39m, where \u001b[36mx\u001b[39m is in radians.\n",
       "\n",
       "  See also \u001b[36msind\u001b[39m, \u001b[36msinpi\u001b[39m, \u001b[36msincos\u001b[39m, \u001b[36mcis\u001b[39m, \u001b[36masin\u001b[39m.\n",
       "\n",
       "\u001b[1m  Examples\u001b[22m\n",
       "\u001b[1m  ≡≡≡≡≡≡≡≡≡≡\u001b[22m\n",
       "\n",
       "\u001b[36m  julia> round.(sin.(range(0, 2pi, length=9)'), digits=3)\u001b[39m\n",
       "\u001b[36m  1×9 Matrix{Float64}:\u001b[39m\n",
       "\u001b[36m   0.0  0.707  1.0  0.707  0.0  -0.707  -1.0  -0.707  -0.0\u001b[39m\n",
       "\u001b[36m  \u001b[39m\n",
       "\u001b[36m  julia> sind(45)\u001b[39m\n",
       "\u001b[36m  0.7071067811865476\u001b[39m\n",
       "\u001b[36m  \u001b[39m\n",
       "\u001b[36m  julia> sinpi(1/4)\u001b[39m\n",
       "\u001b[36m  0.7071067811865476\u001b[39m\n",
       "\u001b[36m  \u001b[39m\n",
       "\u001b[36m  julia> round.(sincos(pi/6), digits=3)\u001b[39m\n",
       "\u001b[36m  (0.5, 0.866)\u001b[39m\n",
       "\u001b[36m  \u001b[39m\n",
       "\u001b[36m  julia> round(cis(pi/6), digits=3)\u001b[39m\n",
       "\u001b[36m  0.866 + 0.5im\u001b[39m\n",
       "\u001b[36m  \u001b[39m\n",
       "\u001b[36m  julia> round(exp(im*pi/6), digits=3)\u001b[39m\n",
       "\u001b[36m  0.866 + 0.5im\u001b[39m\n",
       "\n",
       "  ────────────────────────────────────────────────────────────────────────────\n",
       "\n",
       "\u001b[36m  sin(A::AbstractMatrix)\u001b[39m\n",
       "\n",
       "  Compute the matrix sine of a square matrix \u001b[36mA\u001b[39m.\n",
       "\n",
       "  If \u001b[36mA\u001b[39m is symmetric or Hermitian, its eigendecomposition (\u001b[36meigen\u001b[39m) is used to\n",
       "  compute the sine. Otherwise, the sine is determined by calling \u001b[36mexp\u001b[39m.\n",
       "\n",
       "\u001b[1m  Examples\u001b[22m\n",
       "\u001b[1m  ≡≡≡≡≡≡≡≡≡≡\u001b[22m\n",
       "\n",
       "\u001b[36m  julia> sin(fill(1.0, (2,2)))\u001b[39m\n",
       "\u001b[36m  2×2 Matrix{Float64}:\u001b[39m\n",
       "\u001b[36m   0.454649  0.454649\u001b[39m\n",
       "\u001b[36m   0.454649  0.454649\u001b[39m"
      ]
     },
     "execution_count": 68,
     "metadata": {},
     "output_type": "execute_result"
    }
   ],
   "source": [
    "?sin "
   ]
  },
  {
   "cell_type": "code",
   "execution_count": 69,
   "id": "84db359c",
   "metadata": {},
   "outputs": [
    {
     "data": {
      "text/html": [
       "# 19 methods for generic function <b>muladd</b> from \u001b[90mBase\u001b[39m:<ul><li> muladd(x::<b>T</b>, y::<b>T</b>, z::<b>T</b>)<i> where T<:Union{Float16, Float32, Float64}</i> in Base at <a href=\"https://github.com/JuliaLang/julia/tree/e4ee485e90961018b7e53ce14b8b99335953e176/base/float.jl#L413\" target=\"_blank\">float.jl:413</a></li> <li> muladd(A::<b>Union{LinearAlgebra.Adjoint{var\"#s971\", <:StridedMatrix{T} where T}, LinearAlgebra.Transpose{var\"#s971\", <:StridedMatrix{T} where T}, StridedMatrix{var\"#s971\"}} where var\"#s971\"<:Number</b>, y::<b>AbstractVector{<:Number}</b>, z::<b>Union{Number, AbstractVector}</b>) in LinearAlgebra at <a href=\"file://C:/workdir/usr/share/julia/stdlib/v1.9/LinearAlgebra/src/matmul.jl\" target=\"_blank\">C:\\Users\\tienn\\AppData\\Local\\Programs\\Julia-1.9.2\\share\\julia\\stdlib\\v1.9\\LinearAlgebra\\src\\matmul.jl:239</a></li> <li> muladd(A::<b>Union{LinearAlgebra.Adjoint{var\"#s971\", <:StridedMatrix{T} where T}, LinearAlgebra.Transpose{var\"#s971\", <:StridedMatrix{T} where T}, StridedMatrix{var\"#s971\"}} where var\"#s971\"<:Number</b>, B::<b>Union{LinearAlgebra.Adjoint{var\"#s970\", <:StridedMatrix{T} where T}, LinearAlgebra.Transpose{var\"#s970\", <:StridedMatrix{T} where T}, StridedMatrix{var\"#s970\"}} where var\"#s970\"<:Number</b>, z::<b>Union{Number, AbstractVecOrMat}</b>) in LinearAlgebra at <a href=\"file://C:/workdir/usr/share/julia/stdlib/v1.9/LinearAlgebra/src/matmul.jl\" target=\"_blank\">C:\\Users\\tienn\\AppData\\Local\\Programs\\Julia-1.9.2\\share\\julia\\stdlib\\v1.9\\LinearAlgebra\\src\\matmul.jl:246</a></li> <li> muladd(A::<b>LinearAlgebra.Diagonal</b>, B::<b>LinearAlgebra.Diagonal</b>, z::<b>LinearAlgebra.Diagonal</b>) in LinearAlgebra at <a href=\"file://C:/workdir/usr/share/julia/stdlib/v1.9/LinearAlgebra/src/diagonal.jl\" target=\"_blank\">C:\\Users\\tienn\\AppData\\Local\\Programs\\Julia-1.9.2\\share\\julia\\stdlib\\v1.9\\LinearAlgebra\\src\\diagonal.jl:875</a></li> <li> muladd(x::<b>Real</b>, z::<b>Complex</b>, y::<b>Number</b>) in Base at <a href=\"https://github.com/JuliaLang/julia/tree/e4ee485e90961018b7e53ce14b8b99335953e176/base/complex.jl#L339\" target=\"_blank\">complex.jl:339</a></li> <li> muladd(x::<b>Real</b>, y::<b>Real</b>, z::<b>Complex</b>) in Base at <a href=\"https://github.com/JuliaLang/julia/tree/e4ee485e90961018b7e53ce14b8b99335953e176/base/complex.jl#L343\" target=\"_blank\">complex.jl:343</a></li> <li> muladd(x::<b>LinearAlgebra.Transpose{T, <:AbstractVector} where T</b>, A::<b>AbstractMatrix</b>, z::<b>Union{Number, AbstractVecOrMat}</b>) in LinearAlgebra at <a href=\"file://C:/workdir/usr/share/julia/stdlib/v1.9/LinearAlgebra/src/matmul.jl\" target=\"_blank\">C:\\Users\\tienn\\AppData\\Local\\Programs\\Julia-1.9.2\\share\\julia\\stdlib\\v1.9\\LinearAlgebra\\src\\matmul.jl:236</a></li> <li> muladd(u::<b>AbstractVector</b>, v::<b>Union{LinearAlgebra.Adjoint{T, var\"#s971\"}, LinearAlgebra.Transpose{T, var\"#s971\"}} where {T, var\"#s971\"<:(AbstractVector)}</b>, z::<b>Union{Number, AbstractArray}</b>) in LinearAlgebra at <a href=\"file://C:/workdir/usr/share/julia/stdlib/v1.9/LinearAlgebra/src/matmul.jl\" target=\"_blank\">C:\\Users\\tienn\\AppData\\Local\\Programs\\Julia-1.9.2\\share\\julia\\stdlib\\v1.9\\LinearAlgebra\\src\\matmul.jl:221</a></li> <li> muladd(x::<b>LinearAlgebra.Adjoint{T, <:AbstractVector} where T</b>, A::<b>AbstractMatrix</b>, z::<b>Union{Number, AbstractVecOrMat}</b>) in LinearAlgebra at <a href=\"file://C:/workdir/usr/share/julia/stdlib/v1.9/LinearAlgebra/src/matmul.jl\" target=\"_blank\">C:\\Users\\tienn\\AppData\\Local\\Programs\\Julia-1.9.2\\share\\julia\\stdlib\\v1.9\\LinearAlgebra\\src\\matmul.jl:234</a></li> <li> muladd(A::<b>AbstractMatrix</b>, y::<b>AbstractVecOrMat</b>, z::<b>Union{Number, AbstractArray}</b>) in LinearAlgebra at <a href=\"file://C:/workdir/usr/share/julia/stdlib/v1.9/LinearAlgebra/src/matmul.jl\" target=\"_blank\">C:\\Users\\tienn\\AppData\\Local\\Programs\\Julia-1.9.2\\share\\julia\\stdlib\\v1.9\\LinearAlgebra\\src\\matmul.jl:207</a></li> <li> muladd(z::<b>Complex</b>, w::<b>Complex</b>, x::<b>Complex</b>) in Base at <a href=\"https://github.com/JuliaLang/julia/tree/e4ee485e90961018b7e53ce14b8b99335953e176/base/complex.jl#L296\" target=\"_blank\">complex.jl:296</a></li> <li> muladd(z::<b>Complex</b>, x::<b>Real</b>, y::<b>Real</b>) in Base at <a href=\"https://github.com/JuliaLang/julia/tree/e4ee485e90961018b7e53ce14b8b99335953e176/base/complex.jl#L340\" target=\"_blank\">complex.jl:340</a></li> <li> muladd(z::<b>Complex</b>, x::<b>Real</b>, w::<b>Complex</b>) in Base at <a href=\"https://github.com/JuliaLang/julia/tree/e4ee485e90961018b7e53ce14b8b99335953e176/base/complex.jl#L341\" target=\"_blank\">complex.jl:341</a></li> <li> muladd(z::<b>Complex</b>, w::<b>Complex</b>, x::<b>Real</b>) in Base at <a href=\"https://github.com/JuliaLang/julia/tree/e4ee485e90961018b7e53ce14b8b99335953e176/base/complex.jl#L344\" target=\"_blank\">complex.jl:344</a></li> <li> muladd(x::<b>T</b>, y::<b>T</b>, z::<b>T</b>)<i> where T<:Number</i> in Base at <a href=\"https://github.com/JuliaLang/julia/tree/e4ee485e90961018b7e53ce14b8b99335953e176/base/promotion.jl#L493\" target=\"_blank\">promotion.jl:493</a></li> <li> muladd(x::<b>Number</b>, y::<b>Number</b>, z::<b>Number</b>) in Base at <a href=\"https://github.com/JuliaLang/julia/tree/e4ee485e90961018b7e53ce14b8b99335953e176/base/promotion.jl#L447\" target=\"_blank\">promotion.jl:447</a></li> <li> muladd(A::<b>LinearAlgebra.UniformScaling</b>, B::<b>LinearAlgebra.UniformScaling</b>, z::<b>LinearAlgebra.UniformScaling</b>) in LinearAlgebra at <a href=\"file://C:/workdir/usr/share/julia/stdlib/v1.9/LinearAlgebra/src/uniformscaling.jl\" target=\"_blank\">C:\\Users\\tienn\\AppData\\Local\\Programs\\Julia-1.9.2\\share\\julia\\stdlib\\v1.9\\LinearAlgebra\\src\\uniformscaling.jl:528</a></li> <li> muladd(A::<b>Union{LinearAlgebra.Diagonal, LinearAlgebra.UniformScaling}</b>, B::<b>Union{LinearAlgebra.Diagonal, LinearAlgebra.UniformScaling}</b>, z::<b>Union{LinearAlgebra.Diagonal, LinearAlgebra.UniformScaling}</b>) in LinearAlgebra at <a href=\"file://C:/workdir/usr/share/julia/stdlib/v1.9/LinearAlgebra/src/uniformscaling.jl\" target=\"_blank\">C:\\Users\\tienn\\AppData\\Local\\Programs\\Julia-1.9.2\\share\\julia\\stdlib\\v1.9\\LinearAlgebra\\src\\uniformscaling.jl:530</a></li> <li> muladd(x, y, z) in Base.Math at <a href=\"https://github.com/JuliaLang/julia/tree/e4ee485e90961018b7e53ce14b8b99335953e176/base/math.jl#L1430\" target=\"_blank\">math.jl:1430</a></li> </ul>"
      ],
      "text/plain": [
       "# 19 methods for generic function \"muladd\" from \u001b[90mBase\u001b[39m:\n",
       "  [1] muladd(\u001b[90mx\u001b[39m::\u001b[1mT\u001b[22m, \u001b[90my\u001b[39m::\u001b[1mT\u001b[22m, \u001b[90mz\u001b[39m::\u001b[1mT\u001b[22m) where T<:Union{Float16, Float32, Float64}\n",
       "\u001b[90m     @\u001b[39m \u001b[90m\u001b[4mfloat.jl:413\u001b[24m\u001b[39m\n",
       "  [2] muladd(\u001b[90mA\u001b[39m::\u001b[1mUnion\u001b[22m\u001b[0m{LinearAlgebra.Adjoint{var\"#s971\", <:StridedMatrix{T} where T}, LinearAlgebra.Transpose{var\"#s971\", <:StridedMatrix{T} where T}, StridedMatrix{var\"#s971\"}} where var\"#s971\"<:Number, \u001b[90my\u001b[39m::\u001b[1mAbstractVector\u001b[22m\u001b[0m{<:Number}, \u001b[90mz\u001b[39m::\u001b[1mUnion\u001b[22m\u001b[0m{Number, AbstractVector})\n",
       "\u001b[90m     @\u001b[39m \u001b[35mLinearAlgebra\u001b[39m \u001b[90mC:\\Users\\tienn\\AppData\\Local\\Programs\\Julia-1.9.2\\share\\julia\\stdlib\\v1.9\\LinearAlgebra\\src\\\u001b[39m\u001b[90m\u001b[4mmatmul.jl:239\u001b[24m\u001b[39m\n",
       "  [3] muladd(\u001b[90mA\u001b[39m::\u001b[1mUnion\u001b[22m\u001b[0m{LinearAlgebra.Adjoint{var\"#s971\", <:StridedMatrix{T} where T}, LinearAlgebra.Transpose{var\"#s971\", <:StridedMatrix{T} where T}, StridedMatrix{var\"#s971\"}} where var\"#s971\"<:Number, \u001b[90mB\u001b[39m::\u001b[1mUnion\u001b[22m\u001b[0m{LinearAlgebra.Adjoint{var\"#s970\", <:StridedMatrix{T} where T}, LinearAlgebra.Transpose{var\"#s970\", <:StridedMatrix{T} where T}, StridedMatrix{var\"#s970\"}} where var\"#s970\"<:Number, \u001b[90mz\u001b[39m::\u001b[1mUnion\u001b[22m\u001b[0m{Number, AbstractVecOrMat})\n",
       "\u001b[90m     @\u001b[39m \u001b[35mLinearAlgebra\u001b[39m \u001b[90mC:\\Users\\tienn\\AppData\\Local\\Programs\\Julia-1.9.2\\share\\julia\\stdlib\\v1.9\\LinearAlgebra\\src\\\u001b[39m\u001b[90m\u001b[4mmatmul.jl:246\u001b[24m\u001b[39m\n",
       "  [4] muladd(\u001b[90mA\u001b[39m::\u001b[1mLinearAlgebra.Diagonal\u001b[22m, \u001b[90mB\u001b[39m::\u001b[1mLinearAlgebra.Diagonal\u001b[22m, \u001b[90mz\u001b[39m::\u001b[1mLinearAlgebra.Diagonal\u001b[22m)\n",
       "\u001b[90m     @\u001b[39m \u001b[35mLinearAlgebra\u001b[39m \u001b[90mC:\\Users\\tienn\\AppData\\Local\\Programs\\Julia-1.9.2\\share\\julia\\stdlib\\v1.9\\LinearAlgebra\\src\\\u001b[39m\u001b[90m\u001b[4mdiagonal.jl:875\u001b[24m\u001b[39m\n",
       "  [5] muladd(\u001b[90mx\u001b[39m::\u001b[1mReal\u001b[22m, \u001b[90mz\u001b[39m::\u001b[1mComplex\u001b[22m, \u001b[90my\u001b[39m::\u001b[1mNumber\u001b[22m)\n",
       "\u001b[90m     @\u001b[39m \u001b[90m\u001b[4mcomplex.jl:339\u001b[24m\u001b[39m\n",
       "  [6] muladd(\u001b[90mx\u001b[39m::\u001b[1mReal\u001b[22m, \u001b[90my\u001b[39m::\u001b[1mReal\u001b[22m, \u001b[90mz\u001b[39m::\u001b[1mComplex\u001b[22m)\n",
       "\u001b[90m     @\u001b[39m \u001b[90m\u001b[4mcomplex.jl:343\u001b[24m\u001b[39m\n",
       "  [7] muladd(\u001b[90mx\u001b[39m::\u001b[1mLinearAlgebra.Transpose\u001b[22m\u001b[0m{T, <:AbstractVector} where T, \u001b[90mA\u001b[39m::\u001b[1mAbstractMatrix\u001b[22m, \u001b[90mz\u001b[39m::\u001b[1mUnion\u001b[22m\u001b[0m{Number, AbstractVecOrMat})\n",
       "\u001b[90m     @\u001b[39m \u001b[35mLinearAlgebra\u001b[39m \u001b[90mC:\\Users\\tienn\\AppData\\Local\\Programs\\Julia-1.9.2\\share\\julia\\stdlib\\v1.9\\LinearAlgebra\\src\\\u001b[39m\u001b[90m\u001b[4mmatmul.jl:236\u001b[24m\u001b[39m\n",
       "  [8] muladd(\u001b[90mu\u001b[39m::\u001b[1mAbstractVector\u001b[22m, \u001b[90mv\u001b[39m::\u001b[1mUnion\u001b[22m\u001b[0m{LinearAlgebra.Adjoint{T, var\"#s971\"}, LinearAlgebra.Transpose{T, var\"#s971\"}} where {T, var\"#s971\"<:(AbstractVector)}, \u001b[90mz\u001b[39m::\u001b[1mUnion\u001b[22m\u001b[0m{Number, AbstractArray})\n",
       "\u001b[90m     @\u001b[39m \u001b[35mLinearAlgebra\u001b[39m \u001b[90mC:\\Users\\tienn\\AppData\\Local\\Programs\\Julia-1.9.2\\share\\julia\\stdlib\\v1.9\\LinearAlgebra\\src\\\u001b[39m\u001b[90m\u001b[4mmatmul.jl:221\u001b[24m\u001b[39m\n",
       "  [9] muladd(\u001b[90mx\u001b[39m::\u001b[1mLinearAlgebra.Adjoint\u001b[22m\u001b[0m{T, <:AbstractVector} where T, \u001b[90mA\u001b[39m::\u001b[1mAbstractMatrix\u001b[22m, \u001b[90mz\u001b[39m::\u001b[1mUnion\u001b[22m\u001b[0m{Number, AbstractVecOrMat})\n",
       "\u001b[90m     @\u001b[39m \u001b[35mLinearAlgebra\u001b[39m \u001b[90mC:\\Users\\tienn\\AppData\\Local\\Programs\\Julia-1.9.2\\share\\julia\\stdlib\\v1.9\\LinearAlgebra\\src\\\u001b[39m\u001b[90m\u001b[4mmatmul.jl:234\u001b[24m\u001b[39m\n",
       " [10] muladd(\u001b[90mA\u001b[39m::\u001b[1mAbstractMatrix\u001b[22m, \u001b[90my\u001b[39m::\u001b[1mAbstractVecOrMat\u001b[22m, \u001b[90mz\u001b[39m::\u001b[1mUnion\u001b[22m\u001b[0m{Number, AbstractArray})\n",
       "\u001b[90m     @\u001b[39m \u001b[35mLinearAlgebra\u001b[39m \u001b[90mC:\\Users\\tienn\\AppData\\Local\\Programs\\Julia-1.9.2\\share\\julia\\stdlib\\v1.9\\LinearAlgebra\\src\\\u001b[39m\u001b[90m\u001b[4mmatmul.jl:207\u001b[24m\u001b[39m\n",
       " [11] muladd(\u001b[90mz\u001b[39m::\u001b[1mComplex\u001b[22m, \u001b[90mw\u001b[39m::\u001b[1mComplex\u001b[22m, \u001b[90mx\u001b[39m::\u001b[1mComplex\u001b[22m)\n",
       "\u001b[90m     @\u001b[39m \u001b[90m\u001b[4mcomplex.jl:296\u001b[24m\u001b[39m\n",
       " [12] muladd(\u001b[90mz\u001b[39m::\u001b[1mComplex\u001b[22m, \u001b[90mx\u001b[39m::\u001b[1mReal\u001b[22m, \u001b[90my\u001b[39m::\u001b[1mReal\u001b[22m)\n",
       "\u001b[90m     @\u001b[39m \u001b[90m\u001b[4mcomplex.jl:340\u001b[24m\u001b[39m\n",
       " [13] muladd(\u001b[90mz\u001b[39m::\u001b[1mComplex\u001b[22m, \u001b[90mx\u001b[39m::\u001b[1mReal\u001b[22m, \u001b[90mw\u001b[39m::\u001b[1mComplex\u001b[22m)\n",
       "\u001b[90m     @\u001b[39m \u001b[90m\u001b[4mcomplex.jl:341\u001b[24m\u001b[39m\n",
       " [14] muladd(\u001b[90mz\u001b[39m::\u001b[1mComplex\u001b[22m, \u001b[90mw\u001b[39m::\u001b[1mComplex\u001b[22m, \u001b[90mx\u001b[39m::\u001b[1mReal\u001b[22m)\n",
       "\u001b[90m     @\u001b[39m \u001b[90m\u001b[4mcomplex.jl:344\u001b[24m\u001b[39m\n",
       " [15] muladd(\u001b[90mx\u001b[39m::\u001b[1mT\u001b[22m, \u001b[90my\u001b[39m::\u001b[1mT\u001b[22m, \u001b[90mz\u001b[39m::\u001b[1mT\u001b[22m) where T<:Number\n",
       "\u001b[90m     @\u001b[39m \u001b[90m\u001b[4mpromotion.jl:493\u001b[24m\u001b[39m\n",
       " [16] muladd(\u001b[90mx\u001b[39m::\u001b[1mNumber\u001b[22m, \u001b[90my\u001b[39m::\u001b[1mNumber\u001b[22m, \u001b[90mz\u001b[39m::\u001b[1mNumber\u001b[22m)\n",
       "\u001b[90m     @\u001b[39m \u001b[90m\u001b[4mpromotion.jl:447\u001b[24m\u001b[39m\n",
       " [17] muladd(\u001b[90mA\u001b[39m::\u001b[1mLinearAlgebra.UniformScaling\u001b[22m, \u001b[90mB\u001b[39m::\u001b[1mLinearAlgebra.UniformScaling\u001b[22m, \u001b[90mz\u001b[39m::\u001b[1mLinearAlgebra.UniformScaling\u001b[22m)\n",
       "\u001b[90m     @\u001b[39m \u001b[35mLinearAlgebra\u001b[39m \u001b[90mC:\\Users\\tienn\\AppData\\Local\\Programs\\Julia-1.9.2\\share\\julia\\stdlib\\v1.9\\LinearAlgebra\\src\\\u001b[39m\u001b[90m\u001b[4muniformscaling.jl:528\u001b[24m\u001b[39m\n",
       " [18] muladd(\u001b[90mA\u001b[39m::\u001b[1mUnion\u001b[22m\u001b[0m{LinearAlgebra.Diagonal, LinearAlgebra.UniformScaling}, \u001b[90mB\u001b[39m::\u001b[1mUnion\u001b[22m\u001b[0m{LinearAlgebra.Diagonal, LinearAlgebra.UniformScaling}, \u001b[90mz\u001b[39m::\u001b[1mUnion\u001b[22m\u001b[0m{LinearAlgebra.Diagonal, LinearAlgebra.UniformScaling})\n",
       "\u001b[90m     @\u001b[39m \u001b[35mLinearAlgebra\u001b[39m \u001b[90mC:\\Users\\tienn\\AppData\\Local\\Programs\\Julia-1.9.2\\share\\julia\\stdlib\\v1.9\\LinearAlgebra\\src\\\u001b[39m\u001b[90m\u001b[4muniformscaling.jl:530\u001b[24m\u001b[39m\n",
       " [19] muladd(\u001b[90mx\u001b[39m, \u001b[90my\u001b[39m, \u001b[90mz\u001b[39m)\n",
       "\u001b[90m     @\u001b[39m \u001b[90mBase.Math\u001b[39m \u001b[90m\u001b[4mmath.jl:1430\u001b[24m\u001b[39m"
      ]
     },
     "execution_count": 69,
     "metadata": {},
     "output_type": "execute_result"
    }
   ],
   "source": [
    "methods(muladd)"
   ]
  },
  {
   "cell_type": "markdown",
   "id": "b0dc5934",
   "metadata": {},
   "source": [
    "#### User-defined function"
   ]
  },
  {
   "cell_type": "code",
   "execution_count": 65,
   "id": "b65af124",
   "metadata": {},
   "outputs": [
    {
     "data": {
      "text/plain": [
       "add (generic function with 1 method)"
      ]
     },
     "execution_count": 65,
     "metadata": {},
     "output_type": "execute_result"
    }
   ],
   "source": [
    "function add(a, b)\n",
    "    return a + b\n",
    "end"
   ]
  },
  {
   "cell_type": "code",
   "execution_count": 66,
   "id": "29e0075b",
   "metadata": {},
   "outputs": [
    {
     "data": {
      "text/plain": [
       "8"
      ]
     },
     "execution_count": 66,
     "metadata": {},
     "output_type": "execute_result"
    }
   ],
   "source": [
    "add(10, -2)"
   ]
  },
  {
   "cell_type": "code",
   "execution_count": 70,
   "id": "92c39b4a",
   "metadata": {},
   "outputs": [
    {
     "data": {
      "text/plain": [
       "round (generic function with 1 method)"
      ]
     },
     "execution_count": 70,
     "metadata": {},
     "output_type": "execute_result"
    }
   ],
   "source": [
    "function round(a:: Int64)\n",
    "    return a\n",
    "end"
   ]
  },
  {
   "cell_type": "code",
   "execution_count": 71,
   "id": "dd9a9690",
   "metadata": {},
   "outputs": [
    {
     "data": {
      "text/plain": [
       "10"
      ]
     },
     "execution_count": 71,
     "metadata": {},
     "output_type": "execute_result"
    }
   ],
   "source": [
    "round(10)"
   ]
  },
  {
   "cell_type": "code",
   "execution_count": 86,
   "id": "4dfb536a",
   "metadata": {},
   "outputs": [
    {
     "data": {
      "text/plain": [
       "round (generic function with 2 methods)"
      ]
     },
     "execution_count": 86,
     "metadata": {},
     "output_type": "execute_result"
    }
   ],
   "source": [
    "function round(a:: Float64) :: Int64\n",
    "    return floor(a)\n",
    "end"
   ]
  },
  {
   "cell_type": "code",
   "execution_count": 87,
   "id": "85025870",
   "metadata": {},
   "outputs": [
    {
     "data": {
      "text/plain": [
       "10"
      ]
     },
     "execution_count": 87,
     "metadata": {},
     "output_type": "execute_result"
    }
   ],
   "source": [
    "round(10.2)"
   ]
  },
  {
   "cell_type": "code",
   "execution_count": 90,
   "id": "edc2436f",
   "metadata": {},
   "outputs": [
    {
     "data": {
      "text/plain": [
       "fibonacy (generic function with 1 method)"
      ]
     },
     "execution_count": 90,
     "metadata": {},
     "output_type": "execute_result"
    }
   ],
   "source": [
    "function fibonacy(n:: Int64):: Int64\n",
    "    if n == 0\n",
    "        return 0\n",
    "    elseif n == 1\n",
    "        return 1\n",
    "    end\n",
    "    return fibonacy(n-1)+fibonacy(n-2)\n",
    "end"
   ]
  },
  {
   "cell_type": "code",
   "execution_count": 91,
   "id": "83fdd404",
   "metadata": {},
   "outputs": [
    {
     "data": {
      "text/plain": [
       "21"
      ]
     },
     "execution_count": 91,
     "metadata": {},
     "output_type": "execute_result"
    }
   ],
   "source": [
    "fibonacy(8)"
   ]
  },
  {
   "cell_type": "code",
   "execution_count": null,
   "id": "43cc1a09",
   "metadata": {},
   "outputs": [],
   "source": []
  }
 ],
 "metadata": {
  "kernelspec": {
   "display_name": "Julia 1.9.2",
   "language": "julia",
   "name": "julia-1.9"
  },
  "language_info": {
   "file_extension": ".jl",
   "mimetype": "application/julia",
   "name": "julia",
   "version": "1.9.2"
  }
 },
 "nbformat": 4,
 "nbformat_minor": 5
}
